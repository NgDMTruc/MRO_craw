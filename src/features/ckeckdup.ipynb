{
 "cells": [
  {
   "cell_type": "code",
   "execution_count": 1,
   "metadata": {},
   "outputs": [],
   "source": [
    "import polars as pl\n",
    "import re\n",
    "import os "
   ]
  },
  {
   "cell_type": "code",
   "execution_count": 2,
   "metadata": {},
   "outputs": [],
   "source": [
    "directory = r'D:\\Private\\Work\\Program\\MRO_craw\\output\\Craw'\n",
    "files = os.listdir(directory)\n",
    "infor_items = []\n",
    "for file in files:\n",
    "    f = os.path.join(directory, file)\n",
    "    web_df = pl.read_csv(f)\n",
    "    infor_items = pl.Series(web_df['Item information']).to_list() + infor_items"
   ]
  },
  {
   "cell_type": "code",
   "execution_count": 9,
   "metadata": {},
   "outputs": [],
   "source": [
    "def check_dup(infor_items):\n",
    "    pattern = r\"'Mã hệ thống:\\s*([^']*)'\"\n",
    "    id_link = []\n",
    "    for i in infor_items:\n",
    "        # Use re.search to find the match\n",
    "        match = re.search(pattern, i)\n",
    "\n",
    "        # Check if a match was found\n",
    "        if match:\n",
    "            id_value = match.group(1)\n",
    "            id_link.append(id_value)\n",
    "    if len(id_link) == len(set(id_link)):\n",
    "        print('Khong bi trung id')\n",
    "        df = None\n",
    "    else: \n",
    "        print('Co id bi trung')\n",
    "        df = pl.DataFrame({'ID': id_link})\n",
    "        df.filter(df.is_duplicated())\n",
    "\n",
    "    return df\n",
    "     "
   ]
  },
  {
   "cell_type": "code",
   "execution_count": 10,
   "metadata": {},
   "outputs": [
    {
     "name": "stdout",
     "output_type": "stream",
     "text": [
      "Khong bi trung id\n"
     ]
    }
   ],
   "source": [
    "id_link = check_dup(infor_items)"
   ]
  },
  {
   "cell_type": "code",
   "execution_count": null,
   "metadata": {},
   "outputs": [],
   "source": []
  }
 ],
 "metadata": {
  "kernelspec": {
   "display_name": "Python 3",
   "language": "python",
   "name": "python3"
  },
  "language_info": {
   "codemirror_mode": {
    "name": "ipython",
    "version": 3
   },
   "file_extension": ".py",
   "mimetype": "text/x-python",
   "name": "python",
   "nbconvert_exporter": "python",
   "pygments_lexer": "ipython3",
   "version": "3.10.1"
  }
 },
 "nbformat": 4,
 "nbformat_minor": 2
}
